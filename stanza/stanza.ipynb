{
 "cells": [
  {
   "cell_type": "code",
   "execution_count": 3,
   "metadata": {
    "collapsed": true
   },
   "outputs": [
    {
     "output_type": "stream",
     "name": "stdout",
     "text": "Requirement already satisfied: stanza in /home/dave/anaconda3/lib/python3.7/site-packages (1.0.1)\nRequirement already satisfied: numpy in /home/dave/anaconda3/lib/python3.7/site-packages (from stanza) (1.18.1)\nRequirement already satisfied: protobuf in /home/dave/anaconda3/lib/python3.7/site-packages (from stanza) (3.12.2)\nRequirement already satisfied: requests in /home/dave/anaconda3/lib/python3.7/site-packages (from stanza) (2.22.0)\nRequirement already satisfied: torch>=1.3.0 in /home/dave/anaconda3/lib/python3.7/site-packages (from stanza) (1.5.0)\nRequirement already satisfied: tqdm in /home/dave/anaconda3/lib/python3.7/site-packages (from stanza) (4.42.1)\nRequirement already satisfied: setuptools in /home/dave/anaconda3/lib/python3.7/site-packages (from protobuf->stanza) (45.2.0.post20200210)\nRequirement already satisfied: six>=1.9 in /home/dave/anaconda3/lib/python3.7/site-packages (from protobuf->stanza) (1.14.0)\nRequirement already satisfied: urllib3!=1.25.0,!=1.25.1,<1.26,>=1.21.1 in /home/dave/anaconda3/lib/python3.7/site-packages (from requests->stanza) (1.25.8)\nRequirement already satisfied: idna<2.9,>=2.5 in /home/dave/anaconda3/lib/python3.7/site-packages (from requests->stanza) (2.8)\nRequirement already satisfied: certifi>=2017.4.17 in /home/dave/anaconda3/lib/python3.7/site-packages (from requests->stanza) (2019.11.28)\nRequirement already satisfied: chardet<3.1.0,>=3.0.2 in /home/dave/anaconda3/lib/python3.7/site-packages (from requests->stanza) (3.0.4)\nRequirement already satisfied: future in /home/dave/anaconda3/lib/python3.7/site-packages (from torch>=1.3.0->stanza) (0.18.2)\n"
    }
   ],
   "source": [
    "!pip install stanza\n",
    "\n"
   ]
  },
  {
   "cell_type": "markdown",
   "metadata": {},
   "source": [
    "En este notebook vamos a probar stanza que es la versión en python de Standford.\n",
    "\n",
    "Dicho proyecto se enuentra en https://github.com/stanfordnlp/stanza/\n",
    "\n"
   ]
  },
  {
   "cell_type": "code",
   "execution_count": 1,
   "metadata": {
    "pycharm": {
     "name": "#%%\n"
    }
   },
   "outputs": [],
   "source": [
    "import stanza"
   ]
  },
  {
   "cell_type": "code",
   "execution_count": 2,
   "metadata": {
    "pycharm": {
     "name": "#%%\n"
    }
   },
   "outputs": [
    {
     "output_type": "stream",
     "name": "stderr",
     "text": "Downloading https://raw.githubusercontent.com/stanfordnlp/stanza-resources/master/resources_1.0.0.json: 115kB [00:00, 5.55MB/s]\n2020-06-16 11:04:17 INFO: Downloading default packages for language: en (English)...\n2020-06-16 11:04:17 INFO: File exists: /home/dave/stanza_resources/en/default.zip.\n2020-06-16 11:04:22 INFO: Finished downloading models and saved to /home/dave/stanza_resources.\n2020-06-16 11:04:22 INFO: Loading these models for language: en (English):\n=========================\n| Processor | Package   |\n-------------------------\n| tokenize  | ewt       |\n| pos       | ewt       |\n| lemma     | ewt       |\n| depparse  | ewt       |\n| ner       | ontonotes |\n=========================\n\n2020-06-16 11:04:22 INFO: Use device: gpu\n2020-06-16 11:04:22 INFO: Loading: tokenize\n2020-06-16 11:04:26 INFO: Loading: pos\n2020-06-16 11:04:27 INFO: Loading: lemma\n2020-06-16 11:04:27 INFO: Loading: depparse\n2020-06-16 11:04:28 INFO: Loading: ner\n2020-06-16 11:04:29 INFO: Done loading processors!\n"
    }
   ],
   "source": [
    "stanza.download('en')\n",
    "nlp = stanza.Pipeline('en')"
   ]
  },
  {
   "cell_type": "code",
   "execution_count": 3,
   "metadata": {
    "pycharm": {
     "name": "#%%\n"
    }
   },
   "outputs": [],
   "source": [
    "doc = nlp(\"Barack Obama was born in Hawaii.  He was elected president in 2008.\")\n"
   ]
  },
  {
   "cell_type": "code",
   "execution_count": 4,
   "metadata": {
    "pycharm": {
     "name": "#%%\n"
    }
   },
   "outputs": [
    {
     "output_type": "stream",
     "name": "stdout",
     "text": "('Barack', '4', 'nsubj:pass')\n('Obama', '1', 'flat')\n('was', '4', 'aux:pass')\n('born', '0', 'root')\n('in', '6', 'case')\n('Hawaii', '4', 'obl')\n('.', '4', 'punct')\n"
    }
   ],
   "source": [
    "doc.sentences[0].print_dependencies()\n"
   ]
  },
  {
   "cell_type": "code",
   "execution_count": 5,
   "metadata": {},
   "outputs": [
    {
     "output_type": "stream",
     "name": "stdout",
     "text": "<class 'stanza.models.common.doc.Document'>\n"
    }
   ],
   "source": [
    "# Processing English text\n",
    "print(type(doc))\n",
    "\n"
   ]
  },
  {
   "cell_type": "code",
   "execution_count": null,
   "metadata": {},
   "outputs": [],
   "source": []
  }
 ],
 "metadata": {
  "kernelspec": {
   "display_name": "Python 3.7.7 64-bit ('PythonExamples': conda)",
   "language": "python",
   "name": "python37764bitpythonexamplesconda90f66b1e19394047a4ba08623143142a"
  },
  "language_info": {
   "codemirror_mode": {
    "name": "ipython",
    "version": 3
   },
   "file_extension": ".py",
   "mimetype": "text/x-python",
   "name": "python",
   "nbconvert_exporter": "python",
   "pygments_lexer": "ipython3",
   "version": "3.7.7-final"
  }
 },
 "nbformat": 4,
 "nbformat_minor": 1
}